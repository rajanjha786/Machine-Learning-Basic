{
 "cells": [
  {
   "cell_type": "markdown",
   "metadata": {
    "slideshow": {
     "slide_type": "slide"
    }
   },
   "source": [
    "# Machine Learning"
   ]
  },
  {
   "cell_type": "markdown",
   "metadata": {
    "slideshow": {
     "slide_type": "subslide"
    }
   },
   "source": [
    "<p>Machine Learning is the science of programming computers so they can learn from data.</p>\n",
    "<p><i>A more general definition</i>:</p>\n",
    "<p>Machine Learning is the field of study that gives computers the ability to learn without being <b>explicitly</b> programmed</p>\n",
    "-- Arthur Samuel\n",
    "<p><i>More engineering-oriented one:</i></p>\n",
    "<p>A computer program is said to learn from experience E with respect to task T and some performance measure P, if it's performance on T, as measured by P, improves with experience E</p>\n",
    "-- Tom Mitchell\n"
   ]
  },
  {
   "cell_type": "markdown",
   "metadata": {
    "slideshow": {
     "slide_type": "slide"
    }
   },
   "source": [
    "# Why to use Machine Learning ?\n",
    "\n",
    "<ul>\n",
    "    <li> \n",
    "        Problems for existing solutions require lot of hand-tuning or long list of rules: one Machine Learning algorithm can often simplify code and perform better.\n",
    "    </li>\n",
    "    <li>\n",
    "        Complex problems for which there is no good solution at all using a traditional approach: the best machine learning techniques can find a solution.\n",
    "    </li>\n",
    "    <li>\n",
    "        Fluctuating environments: A Machine Learning system can adapt to new data\n",
    "    </li>\n",
    "    <li>\n",
    "        Getting insights about comples problems and large amount of data.\n",
    "    </li>\n",
    "</ul>"
   ]
  },
  {
   "cell_type": "markdown",
   "metadata": {
    "slideshow": {
     "slide_type": "slide"
    }
   },
   "source": [
    "# Types of Machine Learning\n",
    "\n",
    "<ol>\n",
    "    <li>\n",
    "        <i>Supervised Learning</i>: Training data you feed to the algorithm includes the desired solution, called labels\n",
    "        <ul>\n",
    "        <li>k-Nearest Neighbors</li>\n",
    "            <li>Linear Regression</li>\n",
    "            <li>Logistic Regression</li>\n",
    "            <li>Support Vector Machines</li>\n",
    "            <li>Decision Trees and Random Forest</li>\n",
    "            <li>Neural Networks</li>\n",
    "        </ul>\n",
    "    </li>\n",
    "    <li>\n",
    "        <i>Unsupervised Learning</i>: The training data is unlabeled. The system tries to learn without teacher.\n",
    "        <ul>\n",
    "            <li>k-Means</li>\n",
    "            <li>Hierarchical Cluster Analysis (HCA)</li>\n",
    "        </ul>\n",
    "    </li>\n",
    "    \n",
    "    <li>\n",
    "        <i>Reinforcement Learning</i>:\n",
    "    </li>\n",
    "</ol>"
   ]
  },
  {
   "cell_type": "markdown",
   "metadata": {
    "slideshow": {
     "slide_type": "slide"
    }
   },
   "source": [
    "# Main Challenges of Machine Learning\n",
    "\n",
    "<p> The two things that can go wrong are \"bad algorithm\" and \"bad data\" </p>\n",
    "\n",
    "Bad Data\n",
    "## THE\tUNREASONABLE EFFECTIVENESS\tOF\tDATA\n",
    "The data matters more then algorithm\n",
    "\n",
    "1. Insufficient Quantity of Training data\n",
    "2. Nonrepresentative Training data (Sampling Bias)\n",
    "3. Poor-Quality data\n",
    "4. Irrevalant Features\n",
    "\n",
    "Bad Algorithm\n",
    "\n",
    "1. Overfitting the Training data\n",
    "2. Underfitting the Training data\n"
   ]
  },
  {
   "cell_type": "markdown",
   "metadata": {
    "slideshow": {
     "slide_type": "slide"
    }
   },
   "source": [
    "# Testing and Validation\n"
   ]
  },
  {
   "cell_type": "markdown",
   "metadata": {
    "slideshow": {
     "slide_type": "slide"
    }
   },
   "source": [
    "# Exercise 1\n",
    "\n",
    "1.   How\twould\tyou\tdefine\tMachine\tLearning?\n",
    "2.\t Can\tyou\tname\tfour\ttypes\tof\tproblems\twhere\tit\tshines?\n",
    "3.\t What\tis\ta\tlabeled\ttraining\tset?\n",
    "4.\t What\tare\tthe\ttwo\tmost\tcommon\tsupervised\ttasks?\n",
    "5.\t Can\tyou\tname\tfour\tcommon\tunsupervised\ttasks?\n",
    "6.\t What\ttype\tof\tMachine\tLearning\talgorithm\twould\tyou\tuse\tto\tallow\ta\trobot\tto\twalk\tin\tvarious unknown\tterrains?\n",
    "7.\t What\ttype\tof\talgorithm\twould\tyou\tuse\tto\tsegment\tyour\tcustomers\tinto\tmultiple\tgroups?\n",
    "8.\t Would\tyou\tframe\tthe\tproblem\tof\tspam\tdetection\tas\ta\tsupervised\tlearning\tproblem\tor\tan\n",
    "unsupervised\tlearning\tproblem?\n",
    "9.\t What\tis\tout-of-core\tlearning?\n",
    "10.\t What\ttype\tof\tlearning\talgorithm\trelies\ton\ta\tsimilarity\tmeasure\tto\tmake\tpredictions?\n",
    "11.\t What\tis\tthe\tdifference\tbetween\ta\tmodel\tparameter\tand\ta\tlearning\talgorithm’s\thyperparameter?\n",
    "12.\t Can\tyou\tname\tfour\tof\tthe\tmain\tchallenges\tin\tMachine\tLearning?\n",
    "13.\t If\tyour\tmodel\tperforms\tgreat\ton\tthe\ttraining\tdata\tbut\tgeneralizes\tpoorly\tto\tnew\tinstances,\twhat\tis\n",
    "happening?\tCan\tyou\tname\tthree\tpossible\tsolutions?\n",
    "14.\t What\tis\ta\ttest\tset\tand\twhy\twould\tyou\twant\tto\tuse\tit?\n",
    "15.\t What\tis\tthe\tpurpose\tof\ta\tvalidation\tset?\n",
    "16.\t What\tcan\tgo\twrong\tif\tyou\ttune\thyperparameters\tusing\tthe\ttest\tset?\n",
    "17.\t What\tis\tcross-validation\tand\twhy\twould\tyou\tprefer\tit\tto\ta\tvalidation\tset?"
   ]
  },
  {
   "cell_type": "markdown",
   "metadata": {
    "slideshow": {
     "slide_type": "slide"
    }
   },
   "source": [
    "# Linear Regression Model"
   ]
  },
  {
   "cell_type": "markdown",
   "metadata": {
    "slideshow": {
     "slide_type": "subslide"
    }
   },
   "source": [
    "We will train the linear regression model using two ways:\n",
    "1. Using a direct closed form equation\n",
    "2. Using gradient Descent"
   ]
  },
  {
   "cell_type": "code",
   "execution_count": 2,
   "metadata": {
    "slideshow": {
     "slide_type": "skip"
    }
   },
   "outputs": [],
   "source": [
    "import numpy as np\n",
    "# To plot pretty figures\n",
    "%matplotlib inline\n",
    "import matplotlib\n",
    "import matplotlib.pyplot as plt\n",
    "plt.rcParams['axes.labelsize'] = 14\n",
    "plt.rcParams['xtick.labelsize'] = 12\n",
    "plt.rcParams['ytick.labelsize'] = 12"
   ]
  },
  {
   "cell_type": "code",
   "execution_count": 3,
   "metadata": {
    "slideshow": {
     "slide_type": "skip"
    }
   },
   "outputs": [],
   "source": [
    "# Let's generate the some linear random data\n",
    "X = 2 * np.random.rand(100,1)\n",
    "y = 4 + 3 * X + np.random.randn(100,1)"
   ]
  },
  {
   "cell_type": "code",
   "execution_count": 4,
   "metadata": {
    "slideshow": {
     "slide_type": "skip"
    }
   },
   "outputs": [
    {
     "data": {
      "text/plain": [
       "Text(0.5,1,'Actual Data')"
      ]
     },
     "execution_count": 4,
     "metadata": {},
     "output_type": "execute_result"
    },
    {
     "data": {
      "image/png": "[encoded data removed]",
      "text/plain": [
       "<Figure size 432x288 with 1 Axes>"
      ]
     },
     "metadata": {},
     "output_type": "display_data"
    }
   ],
   "source": [
    "# lets plot our data\n",
    "plt.plot(X,y,\"b.\")\n",
    "plt.axis([0,2,0,15])\n",
    "plt.title(\"Actual Data\")"
   ]
  },
  {
   "cell_type": "markdown",
   "metadata": {
    "slideshow": {
     "slide_type": "slide"
    }
   },
   "source": [
    "# Normal Equation"
   ]
  },
  {
   "cell_type": "markdown",
   "metadata": {
    "slideshow": {
     "slide_type": "slide"
    }
   },
   "source": [
    "### Using sklearn LinearRegression"
   ]
  },
  {
   "cell_type": "code",
   "execution_count": 5,
   "metadata": {
    "slideshow": {
     "slide_type": "skip"
    }
   },
   "outputs": [
    {
     "data": {
      "text/plain": [
       "(array([3.84868319]), array([[3.06902633]]))"
      ]
     },
     "execution_count": 5,
     "metadata": {},
     "output_type": "execute_result"
    }
   ],
   "source": [
    "# Let's train the model using LinearRegression sklearn model\n",
    "from sklearn.linear_model import LinearRegression\n",
    "\n",
    "lin_reg = LinearRegression()\n",
    "lin_reg.fit(X,y)\n",
    "lin_reg.intercept_, lin_reg.coef_"
   ]
  },
  {
   "cell_type": "code",
   "execution_count": 6,
   "metadata": {
    "slideshow": {
     "slide_type": "skip"
    }
   },
   "outputs": [
    {
     "data": {
      "text/plain": [
       "array([[3.84868319]])"
      ]
     },
     "execution_count": 6,
     "metadata": {},
     "output_type": "execute_result"
    }
   ],
   "source": [
    "lin_reg.predict([[0]])\n"
   ]
  },
  {
   "cell_type": "markdown",
   "metadata": {
    "slideshow": {
     "slide_type": "skip"
    }
   },
   "source": [
    "### Using our own LinearRegression Model"
   ]
  },
  {
   "cell_type": "code",
   "execution_count": 7,
   "metadata": {
    "slideshow": {
     "slide_type": "skip"
    }
   },
   "outputs": [],
   "source": [
    "X_b = np.c_[np.ones((100,1)),X] # Added bias term"
   ]
  },
  {
   "cell_type": "code",
   "execution_count": 8,
   "metadata": {
    "slideshow": {
     "slide_type": "skip"
    }
   },
   "outputs": [],
   "source": [
    "# To find the best model parameters\n",
    "theta_best = np.linalg.inv(X_b.T.dot(X_b)).dot(X_b.T).dot(y)"
   ]
  },
  {
   "cell_type": "code",
   "execution_count": 9,
   "metadata": {
    "slideshow": {
     "slide_type": "skip"
    }
   },
   "outputs": [
    {
     "data": {
      "text/plain": [
       "array([[3.84868319],\n",
       "       [3.06902633]])"
      ]
     },
     "execution_count": 9,
     "metadata": {},
     "output_type": "execute_result"
    }
   ],
   "source": [
    "theta_best"
   ]
  },
  {
   "cell_type": "code",
   "execution_count": 10,
   "metadata": {
    "slideshow": {
     "slide_type": "skip"
    }
   },
   "outputs": [],
   "source": [
    "y_predicted = X_b.dot(theta_best)"
   ]
  },
  {
   "cell_type": "code",
   "execution_count": 11,
   "metadata": {
    "slideshow": {
     "slide_type": "skip"
    }
   },
   "outputs": [
    {
     "data": {
      "text/plain": [
       "Text(0.5,1,'Actual Data and Predicted Data')"
      ]
     },
     "execution_count": 11,
     "metadata": {},
     "output_type": "execute_result"
    },
    {
     "data": {
      "image/png": "[encoded data removed]",
      "text/plain": [
       "<Figure size 432x288 with 1 Axes>"
      ]
     },
     "metadata": {},
     "output_type": "display_data"
    }
   ],
   "source": [
    "# lets plot our data\n",
    "plt.plot(X,y,\"b.\")\n",
    "plt.plot(X,y_predicted,\"r-\",label = \"Prediction\")\n",
    "plt.xlabel(\"X values\")\n",
    "plt.ylabel(\"Y values\")\n",
    "plt.legend(loc = \"upper left\")\n",
    "plt.axis([0,2,0,15])\n",
    "plt.title(\"Actual Data and Predicted Data\")"
   ]
  },
  {
   "cell_type": "code",
   "execution_count": 12,
   "metadata": {
    "slideshow": {
     "slide_type": "skip"
    }
   },
   "outputs": [],
   "source": [
    "theta_best_without_bias = np.linalg.inv(X.T.dot(X)).dot(X.T).dot(y)"
   ]
  },
  {
   "cell_type": "code",
   "execution_count": 13,
   "metadata": {
    "slideshow": {
     "slide_type": "skip"
    }
   },
   "outputs": [
    {
     "data": {
      "text/plain": [
       "array([[5.93281536]])"
      ]
     },
     "execution_count": 13,
     "metadata": {},
     "output_type": "execute_result"
    }
   ],
   "source": [
    "theta_best_without_bias"
   ]
  },
  {
   "cell_type": "code",
   "execution_count": 14,
   "metadata": {
    "slideshow": {
     "slide_type": "skip"
    }
   },
   "outputs": [],
   "source": [
    "y_predicted_without_bias = X.dot(theta_best_without_bias)"
   ]
  },
  {
   "cell_type": "code",
   "execution_count": 15,
   "metadata": {
    "slideshow": {
     "slide_type": "skip"
    }
   },
   "outputs": [
    {
     "data": {
      "text/plain": [
       "Text(0.5,1,'Actual Data and Predicted Data without Bias')"
      ]
     },
     "execution_count": 15,
     "metadata": {},
     "output_type": "execute_result"
    },
    {
     "data": {
      "image/png": "[encoded data removed]",
      "text/plain": [
       "<Figure size 432x288 with 1 Axes>"
      ]
     },
     "metadata": {},
     "output_type": "display_data"
    }
   ],
   "source": [
    "# lets plot our data\n",
    "plt.plot(X,y,\"b.\", )\n",
    "plt.plot(X,y_predicted_without_bias,\"r-\", label = \"Prediction\")\n",
    "plt.xlabel(\"X values\")\n",
    "plt.ylabel(\"Y values\")\n",
    "plt.legend(loc = \"upper left\")\n",
    "plt.axis([0,2,0,15])\n",
    "plt.title(\"Actual Data and Predicted Data without Bias\")"
   ]
  },
  {
   "cell_type": "code",
   "execution_count": 16,
   "metadata": {
    "slideshow": {
     "slide_type": "skip"
    }
   },
   "outputs": [],
   "source": [
    "# Let's import our MyRegression Module\n",
    "\n",
    "from MyRegressionModel import NormalLinearRegression"
   ]
  },
  {
   "cell_type": "code",
   "execution_count": 17,
   "metadata": {
    "slideshow": {
     "slide_type": "skip"
    }
   },
   "outputs": [
    {
     "data": {
      "text/plain": [
       "array([[3.84868319],\n",
       "       [6.91770952]])"
      ]
     },
     "execution_count": 17,
     "metadata": {},
     "output_type": "execute_result"
    }
   ],
   "source": [
    "nor_lin_reg = NormalLinearRegression()\n",
    "nor_lin_reg.fit(X,y)\n",
    "nor_lin_reg.predict([[0],[1]])"
   ]
  },
  {
   "cell_type": "code",
   "execution_count": 18,
   "metadata": {
    "slideshow": {
     "slide_type": "skip"
    }
   },
   "outputs": [
    {
     "data": {
      "text/plain": [
       "['__doc__',\n",
       " '__init__',\n",
       " '__module__',\n",
       " 'add_bias',\n",
       " 'fit',\n",
       " 'predict',\n",
       " 'theta_best']"
      ]
     },
     "execution_count": 18,
     "metadata": {},
     "output_type": "execute_result"
    }
   ],
   "source": [
    "dir(nor_lin_reg) # dir gives all the names in the current scope"
   ]
  },
  {
   "cell_type": "markdown",
   "metadata": {
    "slideshow": {
     "slide_type": "subslide"
    }
   },
   "source": [
    "## The Normal Equation Technique gets very slow when the number of feature grow large"
   ]
  },
  {
   "cell_type": "markdown",
   "metadata": {
    "slideshow": {
     "slide_type": "subslide"
    }
   },
   "source": [
    "# Gradient Descent : An Optimization Algorithm\n",
    "#### Better suited for cases where there are large number of feature, or too many training istances to fit in memory"
   ]
  },
  {
   "cell_type": "markdown",
   "metadata": {
    "slideshow": {
     "slide_type": "subslide"
    }
   },
   "source": [
    "## The slope of the function is the derivative of the function with respect to value\n",
    "This Slope always point to the nearest valley."
   ]
  },
  {
   "cell_type": "markdown",
   "metadata": {
    "slideshow": {
     "slide_type": "subslide"
    }
   },
   "source": [
    "<div style=\"width:1000px; font-size:80%; text-align:center;\"><img src=\"img/GD.png\" alt=\"Gradient Descent\" width=\"width\" height=\"height\" style=\"padding-bottom:0.5em;\" />Gradient Descent</div>"
   ]
  },
  {
   "cell_type": "markdown",
   "metadata": {
    "slideshow": {
     "slide_type": "subslide"
    }
   },
   "source": [
    "![high and low learning Rate](img/GD1.jpeg)"
   ]
  },
  {
   "cell_type": "code",
   "execution_count": 19,
   "metadata": {
    "slideshow": {
     "slide_type": "skip"
    }
   },
   "outputs": [],
   "source": [
    "eta = 0.1 # learning rate\n",
    "n_iterations = 1000\n",
    "m = 100.0"
   ]
  },
  {
   "cell_type": "code",
   "execution_count": 20,
   "metadata": {
    "slideshow": {
     "slide_type": "skip"
    }
   },
   "outputs": [],
   "source": [
    "theta = np.random.randn(2,1) # random initialization"
   ]
  },
  {
   "cell_type": "code",
   "execution_count": 21,
   "metadata": {
    "slideshow": {
     "slide_type": "skip"
    }
   },
   "outputs": [
    {
     "data": {
      "text/plain": [
       "array([[0.27008304],\n",
       "       [1.67840656]])"
      ]
     },
     "execution_count": 21,
     "metadata": {},
     "output_type": "execute_result"
    }
   ],
   "source": [
    "theta"
   ]
  },
  {
   "cell_type": "code",
   "execution_count": 22,
   "metadata": {
    "slideshow": {
     "slide_type": "skip"
    }
   },
   "outputs": [],
   "source": [
    "for iteration in range(n_iterations):\n",
    "    gradients = 2/m * X_b.T.dot(X_b.dot(theta) - y)\n",
    "    #print(iteration,gradients)\n",
    "    theta = theta - eta * gradients"
   ]
  },
  {
   "cell_type": "code",
   "execution_count": 23,
   "metadata": {
    "slideshow": {
     "slide_type": "skip"
    }
   },
   "outputs": [
    {
     "data": {
      "text/plain": [
       "array([[3.84868319],\n",
       "       [3.06902633]])"
      ]
     },
     "execution_count": 23,
     "metadata": {},
     "output_type": "execute_result"
    }
   ],
   "source": [
    "theta"
   ]
  },
  {
   "cell_type": "code",
   "execution_count": 29,
   "metadata": {
    "slideshow": {
     "slide_type": "skip"
    }
   },
   "outputs": [],
   "source": [
    "PROJECT_ROOT_DIR =\".\"\n",
    "CHAPTER_ID = \"Session1\"\n",
    "def save_fig(fig_id, tight_layout=True):\n",
    "    path = os.path.join(PROJECT_ROOT_DIR, \"images\", CHAPTER_ID, fig_id + \".png\")\n",
    "    print(\"Saving figure\", fig_id)\n",
    "    if tight_layout:\n",
    "        plt.tight_layout()\n",
    "    plt.savefig(path, format='png', dpi=300)"
   ]
  },
  {
   "cell_type": "code",
   "execution_count": 38,
   "metadata": {},
   "outputs": [],
   "source": [
    "def plot_gradient_descent(theta,eta):\n",
    "    m = float(len(X_b))\n",
    "    plt.plot(X,y,\"b.\")\n",
    "    n_iteration = 1000\n",
    "    for iteration in range(n_iteration):\n",
    "        if iteration < 10:\n",
    "            y_predict = X_b.dot(theta)\n",
    "            style = \"b-\" if iteration > 0 else \"r--\"\n",
    "            plt.plot(X,y_predict,style)\n",
    "        gradients = 2/m * X_b.T.dot(X_b.dot(theta) - y)\n",
    "        theta = theta - eta * gradients\n",
    "    plt.xlabel(\"$x_1$\", fontsize=18)\n",
    "    plt.axis([0, 2, 0, 15])\n",
    "    plt.title(r\"$\\eta = {}$\".format(eta), fontsize=16)\n",
    "        "
   ]
  },
  {
   "cell_type": "code",
   "execution_count": 39,
   "metadata": {},
   "outputs": [
    {
     "data": {
      "image/png": "[encoded data removed]",
      "text/plain": [
       "<Figure size 720x288 with 3 Axes>"
      ]
     },
     "metadata": {},
     "output_type": "display_data"
    }
   ],
   "source": [
    "theta = np.random.randn(2,1)  # random initialization\n",
    "plt.figure(figsize=(10,4))\n",
    "plt.subplot(131); plot_gradient_descent(theta, eta=0.02)\n",
    "plt.ylabel(\"$y$\", rotation=0, fontsize=18)\n",
    "plt.subplot(132); plot_gradient_descent(theta, eta=0.1)\n",
    "plt.subplot(133); plot_gradient_descent(theta, eta=0.5)\n",
    "plt.show()"
   ]
  },
  {
   "cell_type": "markdown",
   "metadata": {},
   "source": [
    "# Stochastic Gradient Descent"
   ]
  },
  {
   "cell_type": "code",
   "execution_count": 47,
   "metadata": {},
   "outputs": [
    {
     "data": {
      "text/plain": [
       "SGDRegressor(alpha=0.0001, average=False, epsilon=0.1, eta0=0.1,\n",
       "       fit_intercept=True, l1_ratio=0.15, learning_rate='invscaling',\n",
       "       loss='squared_loss', max_iter=50, n_iter=None, penalty='l2',\n",
       "       power_t=0.25, random_state=None, shuffle=True, tol=None, verbose=0,\n",
       "       warm_start=False)"
      ]
     },
     "execution_count": 47,
     "metadata": {},
     "output_type": "execute_result"
    }
   ],
   "source": [
    "# Single Instance at a time\n",
    "\n",
    "# Using Sklearn SGDRegressor\n",
    "\n",
    "from sklearn.linear_model import SGDRegressor\n",
    "sgd_reg = SGDRegressor(max_iter=50, eta0=0.1)\n",
    "sgd_reg.fit(X,y.ravel())"
   ]
  },
  {
   "cell_type": "code",
   "execution_count": 48,
   "metadata": {},
   "outputs": [
    {
     "data": {
      "text/plain": [
       "(array([3.83527926]), array([3.04154532]))"
      ]
     },
     "execution_count": 48,
     "metadata": {},
     "output_type": "execute_result"
    }
   ],
   "source": [
    "sgd_reg.intercept_, sgd_reg.coef_"
   ]
  },
  {
   "cell_type": "code",
   "execution_count": 74,
   "metadata": {},
   "outputs": [],
   "source": [
    "# Using our own SGD Regressor\n",
    "\n",
    "n_epochs = 50 \n",
    "t0,t1 = 5,50 # learning schedule hyperparameter\n"
   ]
  },
  {
   "cell_type": "code",
   "execution_count": 75,
   "metadata": {},
   "outputs": [],
   "source": [
    "def learning_schedule(t):\n",
    "    return t0 / (t + t1)\n"
   ]
  },
  {
   "cell_type": "code",
   "execution_count": 76,
   "metadata": {},
   "outputs": [],
   "source": [
    "theta = np.random.rand(2,1) # random initialization"
   ]
  },
  {
   "cell_type": "code",
   "execution_count": 78,
   "metadata": {},
   "outputs": [
    {
     "data": {
      "text/plain": [
       "[<matplotlib.lines.Line2D at 0x7fa51f2beb50>]"
      ]
     },
     "execution_count": 78,
     "metadata": {},
     "output_type": "execute_result"
    },
    {
     "data": {
      "image/png": "[encoded data removed]",
      "text/plain": [
       "<Figure size 432x288 with 1 Axes>"
      ]
     },
     "metadata": {},
     "output_type": "display_data"
    }
   ],
   "source": [
    "plt.plot(X,y,\"b.\")\n",
    "\n",
    "for epoch in range(n_epochs):\n",
    "    for i in range(int(m)):\n",
    "        random_index = np.random.randint(m) # Select any random number\n",
    "        xi = X_b[random_index:random_index+1] # Select the single random instance\n",
    "        yi = y[random_index:random_index+1] \n",
    "        gradient =  2 * xi.T.dot(xi.dot(theta) - yi)\n",
    "        eta = learning_schedule(epoch * m + i)\n",
    "        theta = theta - eta * gradient\n",
    "    if epoch < 10:\n",
    "        y_predicted = X_b.dot(theta)\n",
    "        plt.plot(X,y_predicted,\"b-\")\n",
    "y_final = X_b.dot(theta)\n",
    "plt.plot(X,y_final,\"r--\")\n",
    "    \n",
    "        \n",
    "        "
   ]
  },
  {
   "cell_type": "code",
   "execution_count": 70,
   "metadata": {},
   "outputs": [
    {
     "data": {
      "text/plain": [
       "array([[3.87985252],\n",
       "       [3.10554133]])"
      ]
     },
     "execution_count": 70,
     "metadata": {},
     "output_type": "execute_result"
    }
   ],
   "source": [
    "theta"
   ]
  },
  {
   "cell_type": "code",
   "execution_count": 125,
   "metadata": {},
   "outputs": [],
   "source": [
    "theta_path_mgd = []\n",
    "\n",
    "n_iterations = 50\n",
    "minibatch_size = 20\n",
    "\n",
    "np.random.seed(42)\n",
    "theta = np.random.randn(2,1)  # random initialization\n",
    "\n",
    "t0, t1 = 200.0, 1000.0\n",
    "def learning_schedule(t):\n",
    "    return t0 / (t + t1)\n",
    "\n",
    "t = 0\n",
    "for epoch in range(n_iterations):\n",
    "    shuffled_indices = np.random.permutation(int(m))\n",
    "    X_b_shuffled = X_b[shuffled_indices]\n",
    "    y_shuffled = y[shuffled_indices]\n",
    "    for i in range(0, int(m), minibatch_size):\n",
    "        t += 1\n",
    "        xi = X_b_shuffled[i:i+minibatch_size]\n",
    "        yi = y_shuffled[i:i+minibatch_size]\n",
    "        gradients = 2/float(minibatch_size) * xi.T.dot(xi.dot(theta) - yi)\n",
    "        eta = learning_schedule(t)\n",
    "        theta = theta - eta * gradients\n",
    "        theta_path_mgd.append(theta)"
   ]
  },
  {
   "cell_type": "code",
   "execution_count": 126,
   "metadata": {},
   "outputs": [
    {
     "data": {
      "text/plain": [
       "[2.5, 4.5, 2.3, 3.9]"
      ]
     },
     "execution_count": 126,
     "metadata": {},
     "output_type": "execute_result"
    },
    {
     "data": {
      "image/png": "[encoded data removed]",
      "text/plain": [
       "<Figure size 432x288 with 1 Axes>"
      ]
     },
     "metadata": {},
     "output_type": "display_data"
    }
   ],
   "source": [
    "# Let's check the path of mini-batch gradient\n",
    "theta_path_mgd = np.asarray(theta_path_mgd)\n",
    "plt.plot(theta_path_mgd[:,0],theta_path_mgd[:,1],\"g-+\", linewidth = 2,label=\"Mini-batch\")\n",
    "plt.legend(loc=\"upper left\", fontsize=16)\n",
    "plt.xlabel(r\"$\\theta_0$\", fontsize=20)\n",
    "plt.ylabel(r\"$\\theta_1$   \", fontsize=20, rotation=0)\n",
    "plt.axis([2.5, 4.5, 2.3, 3.9])\n"
   ]
  },
  {
   "cell_type": "code",
   "execution_count": 131,
   "metadata": {},
   "outputs": [],
   "source": [
    "# let's find out the path for GD\n",
    "\n",
    "n_iteration = 100\n",
    "theta = np.random.randn(2,1)\n",
    "eta = 0.1\n",
    "theta_path_gd = []\n",
    "for iteration in range(n_iteration):\n",
    "    gradients = 2/float(m) * X_b.T.dot(X_b.dot(theta) - y)\n",
    "    theta = theta - eta * gradients\n",
    "    theta_path_gd.append(theta)"
   ]
  },
  {
   "cell_type": "code",
   "execution_count": 135,
   "metadata": {},
   "outputs": [
    {
     "data": {
      "text/plain": [
       "[2.5, 4.5, 2.3, 3.9]"
      ]
     },
     "execution_count": 135,
     "metadata": {},
     "output_type": "execute_result"
    },
    {
     "data": {
      "image/png": "[encoded data removed]",
      "text/plain": [
       "<Figure size 432x288 with 1 Axes>"
      ]
     },
     "metadata": {},
     "output_type": "display_data"
    }
   ],
   "source": [
    "theta_path_gd = np.asarray(theta_path_gd)\n",
    "plt.plot(theta_path_gd[:,0], theta_path_gd[:,1],\"b-o\", linewidth = 2, label = \"Batch\")\n",
    "plt.legend(loc=\"upper left\", fontsize=16)\n",
    "plt.xlabel(r\"$\\theta_0$\", fontsize=20)\n",
    "plt.ylabel(r\"$\\theta_1$   \", fontsize=20, rotation=0)\n",
    "plt.axis([2.5, 4.5, 2.3, 3.9])\n"
   ]
  },
  {
   "cell_type": "code",
   "execution_count": 138,
   "metadata": {},
   "outputs": [],
   "source": [
    "# let's find out the path for SGD\n",
    "# Using our own SGD Regressor\n",
    "\n",
    "n_epochs = 50 \n",
    "t0,t1 = 5,50 # learning schedule hyperparameter\n",
    "theta_path_sgd = []\n",
    "theta = np.random.rand(2,1) # random initialization\n",
    "for epoch in range(n_epochs):\n",
    "    for i in range(int(m)):\n",
    "        random_index = np.random.randint(m) # Select any random number\n",
    "        xi = X_b[random_index:random_index+1] # Select the single random instance\n",
    "        yi = y[random_index:random_index+1] \n",
    "        gradient =  2 * xi.T.dot(xi.dot(theta) - yi)\n",
    "        eta = learning_schedule(epoch * m + i)\n",
    "        theta = theta - eta * gradient\n",
    "        theta_path_sgd.append(theta)"
   ]
  },
  {
   "cell_type": "code",
   "execution_count": 139,
   "metadata": {},
   "outputs": [
    {
     "data": {
      "text/plain": [
       "[2.5, 4.5, 2.3, 3.9]"
      ]
     },
     "execution_count": 139,
     "metadata": {},
     "output_type": "execute_result"
    },
    {
     "data": {
      "image/png": "[encoded data removed]",
      "text/plain": [
       "<Figure size 432x288 with 1 Axes>"
      ]
     },
     "metadata": {},
     "output_type": "display_data"
    }
   ],
   "source": [
    "# let's plot the path of sgd\n",
    "\n",
    "theta_path_sgd = np.asarray(theta_path_sgd)\n",
    "plt.plot(theta_path_sgd[:,0],theta_path_sgd[:,1],\"r-s\", linewidth=1, label=\"Stochastic\")\n",
    "plt.legend(loc=\"upper left\", fontsize=16)\n",
    "plt.xlabel(r\"$\\theta_0$\", fontsize=20)\n",
    "plt.ylabel(r\"$\\theta_1$   \", fontsize=20, rotation=0)\n",
    "plt.axis([2.5, 4.5, 2.3, 3.9])\n"
   ]
  },
  {
   "cell_type": "code",
   "execution_count": null,
   "metadata": {},
   "outputs": [],
   "source": [
    " = "
   ]
  }
 ],
 "metadata": {
  "kernelspec": {
   "display_name": "Python 2",
   "language": "python",
   "name": "python2"
  },
  "language_info": {
   "codemirror_mode": {
    "name": "ipython",
    "version": 2
   },
   "file_extension": ".py",
   "mimetype": "text/x-python",
   "name": "python",
   "nbconvert_exporter": "python",
   "pygments_lexer": "ipython2",
   "version": "2.7.12"
  }
 },
 "nbformat": 4,
 "nbformat_minor": 2
}
