{
 "cells": [
  {
   "cell_type": "markdown",
   "metadata": {
    "slideshow": {
     "slide_type": "slide"
    }
   },
   "source": [
    "# Machine Learning"
   ]
  },
  {
   "cell_type": "markdown",
   "metadata": {
    "slideshow": {
     "slide_type": "subslide"
    }
   },
   "source": [
    "<p>Machine Learning is the science of programming computers so they can learn from data.</p>\n",
    "<p><i>A more general definition</i>:</p>\n",
    "<p>Machine Learning is the field of study that gives computers the ability to learn without being <b>explicitly</b> programmed</p>\n",
    "-- Arthur Samuel\n",
    "<p><i>More engineering-oriented one:</i></p>\n",
    "<p>A computer program is said to learn from experience E with respect to task T and some performance measure P, if it's performance on T, as measured by P, improves with experience E</p>\n",
    "-- Tom Mitchell\n"
   ]
  },
  {
   "cell_type": "markdown",
   "metadata": {
    "slideshow": {
     "slide_type": "slide"
    }
   },
   "source": [
    "# Why to use Machine Learning ?\n",
    "\n",
    "<ul>\n",
    "    <li> \n",
    "        Problems for existing solutions require lot of hand-tuning or long list of rules: one Machine Learning algorithm can often simplify code and perform better.\n",
    "    </li>\n",
    "    <li>\n",
    "        Complex problems for which there is no good solution at all using a traditional approach: the best machine learning techniques can find a solution.\n",
    "    </li>\n",
    "    <li>\n",
    "        Fluctuating environments: A Machine Learning system can adapt to new data\n",
    "    </li>\n",
    "    <li>\n",
    "        Getting insights about comples problems and large amount of data.\n",
    "    </li>\n",
    "</ul>"
   ]
  },
  {
   "cell_type": "markdown",
   "metadata": {
    "slideshow": {
     "slide_type": "slide"
    }
   },
   "source": [
    "# Types of Machine Learning\n",
    "\n",
    "<ol>\n",
    "    <li>\n",
    "        <i>Supervised Learning</i>: Training data you feed to the algorithm includes the desired solution, called labels\n",
    "        <ul>\n",
    "        <li>k-Nearest Neighbors</li>\n",
    "            <li>Linear Regression</li>\n",
    "            <li>Logistic Regression</li>\n",
    "            <li>Support Vector Machines</li>\n",
    "            <li>Decision Trees and Random Forest</li>\n",
    "            <li>Neural Networks</li>\n",
    "        </ul>\n",
    "    </li>\n",
    "    <li>\n",
    "        <i>Unsupervised Learning</i>: The training data is unlabeled. The system tries to learn without teacher.\n",
    "        <ul>\n",
    "            <li>k-Means</li>\n",
    "            <li>Hierarchical Cluster Analysis (HCA)</li>\n",
    "        </ul>\n",
    "    </li>\n",
    "    \n",
    "    <li>\n",
    "        <i>Reinforcement Learning</i>:\n",
    "    </li>\n",
    "</ol>"
   ]
  },
  {
   "cell_type": "markdown",
   "metadata": {
    "slideshow": {
     "slide_type": "slide"
    }
   },
   "source": [
    "# Main Challenges of Machine Learning\n",
    "\n",
    "<p> The two things that can go wrong are \"bad algorithm\" and \"bad data\" </p>\n",
    "\n",
    "Bad Data\n",
    "## THE\tUNREASONABLE EFFECTIVENESS\tOF\tDATA\n",
    "The data matters more then algorithm\n",
    "\n",
    "1. Insufficient Quantity of Training data\n",
    "2. Nonrepresentative Training data (Sampling Bias)\n",
    "3. Poor-Quality data\n",
    "4. Irrevalant Features\n",
    "\n",
    "Bad Algorithm\n",
    "\n",
    "1. Overfitting the Training data\n",
    "2. Underfitting the Training data\n"
   ]
  },
  {
   "cell_type": "markdown",
   "metadata": {
    "slideshow": {
     "slide_type": "slide"
    }
   },
   "source": [
    "# Testing and Validation\n"
   ]
  },
  {
   "cell_type": "markdown",
   "metadata": {
    "slideshow": {
     "slide_type": "slide"
    }
   },
   "source": [
    "# Exercise 1\n",
    "\n",
    "1.   How\twould\tyou\tdefine\tMachine\tLearning?\n",
    "2.\t Can\tyou\tname\tfour\ttypes\tof\tproblems\twhere\tit\tshines?\n",
    "3.\t What\tis\ta\tlabeled\ttraining\tset?\n",
    "4.\t What\tare\tthe\ttwo\tmost\tcommon\tsupervised\ttasks?\n",
    "5.\t Can\tyou\tname\tfour\tcommon\tunsupervised\ttasks?\n",
    "6.\t What\ttype\tof\tMachine\tLearning\talgorithm\twould\tyou\tuse\tto\tallow\ta\trobot\tto\twalk\tin\tvarious unknown\tterrains?\n",
    "7.\t What\ttype\tof\talgorithm\twould\tyou\tuse\tto\tsegment\tyour\tcustomers\tinto\tmultiple\tgroups?\n",
    "8.\t Would\tyou\tframe\tthe\tproblem\tof\tspam\tdetection\tas\ta\tsupervised\tlearning\tproblem\tor\tan\n",
    "unsupervised\tlearning\tproblem?\n",
    "9.\t What\tis\tout-of-core\tlearning?\n",
    "10.\t What\ttype\tof\tlearning\talgorithm\trelies\ton\ta\tsimilarity\tmeasure\tto\tmake\tpredictions?\n",
    "11.\t What\tis\tthe\tdifference\tbetween\ta\tmodel\tparameter\tand\ta\tlearning\talgorithm’s\thyperparameter?\n",
    "12.\t Can\tyou\tname\tfour\tof\tthe\tmain\tchallenges\tin\tMachine\tLearning?\n",
    "13.\t If\tyour\tmodel\tperforms\tgreat\ton\tthe\ttraining\tdata\tbut\tgeneralizes\tpoorly\tto\tnew\tinstances,\twhat\tis\n",
    "happening?\tCan\tyou\tname\tthree\tpossible\tsolutions?\n",
    "14.\t What\tis\ta\ttest\tset\tand\twhy\twould\tyou\twant\tto\tuse\tit?\n",
    "15.\t What\tis\tthe\tpurpose\tof\ta\tvalidation\tset?\n",
    "16.\t What\tcan\tgo\twrong\tif\tyou\ttune\thyperparameters\tusing\tthe\ttest\tset?\n",
    "17.\t What\tis\tcross-validation\tand\twhy\twould\tyou\tprefer\tit\tto\ta\tvalidation\tset?"
   ]
  },
  {
   "cell_type": "markdown",
   "metadata": {},
   "source": [
    "# Linear Regression Model"
   ]
  },
  {
   "cell_type": "markdown",
   "metadata": {},
   "source": [
    "We will train the linear regression model using two ways:\n",
    "1. Using a direct closed form equation\n",
    "2. Using gradient Descent"
   ]
  },
  {
   "cell_type": "code",
   "execution_count": null,
   "metadata": {},
   "outputs": [],
   "source": []
  },
  {
   "cell_type": "code",
   "execution_count": null,
   "metadata": {},
   "outputs": [],
   "source": []
  }
 ],
 "metadata": {
  "kernelspec": {
   "display_name": "Python 2",
   "language": "python",
   "name": "python2"
  },
  "language_info": {
   "codemirror_mode": {
    "name": "ipython",
    "version": 2
   },
   "file_extension": ".py",
   "mimetype": "text/x-python",
   "name": "python",
   "nbconvert_exporter": "python",
   "pygments_lexer": "ipython2",
   "version": "2.7.12"
  }
 },
 "nbformat": 4,
 "nbformat_minor": 2
}
